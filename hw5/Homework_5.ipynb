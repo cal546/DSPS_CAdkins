{
  "nbformat": 4,
  "nbformat_minor": 0,
  "metadata": {
    "colab": {
      "name": "Homework 5.ipynb",
      "provenance": [],
      "collapsed_sections": [],
      "include_colab_link": true
    },
    "kernelspec": {
      "name": "python3",
      "display_name": "Python 3"
    },
    "language_info": {
      "name": "python"
    }
  },
  "cells": [
    {
      "cell_type": "markdown",
      "metadata": {
        "id": "view-in-github",
        "colab_type": "text"
      },
      "source": [
        "<a href=\"https://colab.research.google.com/github/cal546/DSPS_CAdkins/blob/main/hw5/Homework_5.ipynb\" target=\"_parent\"><img src=\"https://colab.research.google.com/assets/colab-badge.svg\" alt=\"Open In Colab\"/></a>"
      ]
    },
    {
      "cell_type": "code",
      "metadata": {
        "id": "Nn-Mwj1Xnef_"
      },
      "source": [
        "import numpy as np\n",
        "import pylab as plt\n",
        "import pandas as pd"
      ],
      "execution_count": null,
      "outputs": []
    },
    {
      "cell_type": "code",
      "metadata": {
        "id": "nAYPNDDBxPVU"
      },
      "source": [
        "lin_data = pd.read_csv('https://raw.githubusercontent.com/fedhere/DSPS_FBianco/master/HW5/hbl2017.csv')"
      ],
      "execution_count": null,
      "outputs": []
    },
    {
      "cell_type": "code",
      "metadata": {
        "colab": {
          "base_uri": "https://localhost:8080/",
          "height": 669
        },
        "id": "ZpZSXdUrxrRP",
        "outputId": "73371e04-daa4-4089-ab08-dbf5d12c0e36"
      },
      "source": [
        "lin_data"
      ],
      "execution_count": null,
      "outputs": [
        {
          "output_type": "execute_result",
          "data": {
            "text/html": [
              "<div>\n",
              "<style scoped>\n",
              "    .dataframe tbody tr th:only-of-type {\n",
              "        vertical-align: middle;\n",
              "    }\n",
              "\n",
              "    .dataframe tbody tr th {\n",
              "        vertical-align: top;\n",
              "    }\n",
              "\n",
              "    .dataframe thead th {\n",
              "        text-align: right;\n",
              "    }\n",
              "</style>\n",
              "<table border=\"1\" class=\"dataframe\">\n",
              "  <thead>\n",
              "    <tr style=\"text-align: right;\">\n",
              "      <th></th>\n",
              "      <th>#ID</th>\n",
              "      <th>x</th>\n",
              "      <th>y</th>\n",
              "      <th>σy</th>\n",
              "      <th>σx</th>\n",
              "      <th>ρxy</th>\n",
              "    </tr>\n",
              "  </thead>\n",
              "  <tbody>\n",
              "    <tr>\n",
              "      <th>0</th>\n",
              "      <td>1</td>\n",
              "      <td>201</td>\n",
              "      <td>592</td>\n",
              "      <td>61</td>\n",
              "      <td>9</td>\n",
              "      <td>-0.84</td>\n",
              "    </tr>\n",
              "    <tr>\n",
              "      <th>1</th>\n",
              "      <td>2</td>\n",
              "      <td>244</td>\n",
              "      <td>401</td>\n",
              "      <td>25</td>\n",
              "      <td>4</td>\n",
              "      <td>0.31</td>\n",
              "    </tr>\n",
              "    <tr>\n",
              "      <th>2</th>\n",
              "      <td>3</td>\n",
              "      <td>47</td>\n",
              "      <td>583</td>\n",
              "      <td>38</td>\n",
              "      <td>11</td>\n",
              "      <td>0.64</td>\n",
              "    </tr>\n",
              "    <tr>\n",
              "      <th>3</th>\n",
              "      <td>4</td>\n",
              "      <td>287</td>\n",
              "      <td>402</td>\n",
              "      <td>15</td>\n",
              "      <td>7</td>\n",
              "      <td>-0.27</td>\n",
              "    </tr>\n",
              "    <tr>\n",
              "      <th>4</th>\n",
              "      <td>5</td>\n",
              "      <td>203</td>\n",
              "      <td>495</td>\n",
              "      <td>21</td>\n",
              "      <td>5</td>\n",
              "      <td>-0.33</td>\n",
              "    </tr>\n",
              "    <tr>\n",
              "      <th>5</th>\n",
              "      <td>6</td>\n",
              "      <td>58</td>\n",
              "      <td>173</td>\n",
              "      <td>15</td>\n",
              "      <td>9</td>\n",
              "      <td>0.67</td>\n",
              "    </tr>\n",
              "    <tr>\n",
              "      <th>6</th>\n",
              "      <td>7</td>\n",
              "      <td>210</td>\n",
              "      <td>479</td>\n",
              "      <td>27</td>\n",
              "      <td>4</td>\n",
              "      <td>-0.02</td>\n",
              "    </tr>\n",
              "    <tr>\n",
              "      <th>7</th>\n",
              "      <td>8</td>\n",
              "      <td>202</td>\n",
              "      <td>504</td>\n",
              "      <td>14</td>\n",
              "      <td>4</td>\n",
              "      <td>-0.05</td>\n",
              "    </tr>\n",
              "    <tr>\n",
              "      <th>8</th>\n",
              "      <td>9</td>\n",
              "      <td>198</td>\n",
              "      <td>510</td>\n",
              "      <td>30</td>\n",
              "      <td>11</td>\n",
              "      <td>-0.84</td>\n",
              "    </tr>\n",
              "    <tr>\n",
              "      <th>9</th>\n",
              "      <td>10</td>\n",
              "      <td>158</td>\n",
              "      <td>416</td>\n",
              "      <td>16</td>\n",
              "      <td>7</td>\n",
              "      <td>-0.69</td>\n",
              "    </tr>\n",
              "    <tr>\n",
              "      <th>10</th>\n",
              "      <td>11</td>\n",
              "      <td>165</td>\n",
              "      <td>393</td>\n",
              "      <td>14</td>\n",
              "      <td>5</td>\n",
              "      <td>0.30</td>\n",
              "    </tr>\n",
              "    <tr>\n",
              "      <th>11</th>\n",
              "      <td>12</td>\n",
              "      <td>201</td>\n",
              "      <td>442</td>\n",
              "      <td>25</td>\n",
              "      <td>5</td>\n",
              "      <td>-0.46</td>\n",
              "    </tr>\n",
              "    <tr>\n",
              "      <th>12</th>\n",
              "      <td>13</td>\n",
              "      <td>157</td>\n",
              "      <td>317</td>\n",
              "      <td>52</td>\n",
              "      <td>5</td>\n",
              "      <td>-0.03</td>\n",
              "    </tr>\n",
              "    <tr>\n",
              "      <th>13</th>\n",
              "      <td>14</td>\n",
              "      <td>131</td>\n",
              "      <td>311</td>\n",
              "      <td>16</td>\n",
              "      <td>6</td>\n",
              "      <td>0.50</td>\n",
              "    </tr>\n",
              "    <tr>\n",
              "      <th>14</th>\n",
              "      <td>15</td>\n",
              "      <td>166</td>\n",
              "      <td>400</td>\n",
              "      <td>34</td>\n",
              "      <td>6</td>\n",
              "      <td>0.73</td>\n",
              "    </tr>\n",
              "    <tr>\n",
              "      <th>15</th>\n",
              "      <td>16</td>\n",
              "      <td>160</td>\n",
              "      <td>337</td>\n",
              "      <td>31</td>\n",
              "      <td>5</td>\n",
              "      <td>-0.52</td>\n",
              "    </tr>\n",
              "    <tr>\n",
              "      <th>16</th>\n",
              "      <td>17</td>\n",
              "      <td>186</td>\n",
              "      <td>423</td>\n",
              "      <td>42</td>\n",
              "      <td>9</td>\n",
              "      <td>0.90</td>\n",
              "    </tr>\n",
              "    <tr>\n",
              "      <th>17</th>\n",
              "      <td>18</td>\n",
              "      <td>125</td>\n",
              "      <td>334</td>\n",
              "      <td>26</td>\n",
              "      <td>8</td>\n",
              "      <td>0.40</td>\n",
              "    </tr>\n",
              "    <tr>\n",
              "      <th>18</th>\n",
              "      <td>19</td>\n",
              "      <td>218</td>\n",
              "      <td>533</td>\n",
              "      <td>16</td>\n",
              "      <td>6</td>\n",
              "      <td>-0.78</td>\n",
              "    </tr>\n",
              "    <tr>\n",
              "      <th>19</th>\n",
              "      <td>20</td>\n",
              "      <td>146</td>\n",
              "      <td>344</td>\n",
              "      <td>22</td>\n",
              "      <td>5</td>\n",
              "      <td>-0.56</td>\n",
              "    </tr>\n",
              "  </tbody>\n",
              "</table>\n",
              "</div>"
            ],
            "text/plain": [
              "    #ID    x    y  σy  σx   ρxy\n",
              "0     1  201  592  61   9 -0.84\n",
              "1     2  244  401  25   4  0.31\n",
              "2     3   47  583  38  11  0.64\n",
              "3     4  287  402  15   7 -0.27\n",
              "4     5  203  495  21   5 -0.33\n",
              "5     6   58  173  15   9  0.67\n",
              "6     7  210  479  27   4 -0.02\n",
              "7     8  202  504  14   4 -0.05\n",
              "8     9  198  510  30  11 -0.84\n",
              "9    10  158  416  16   7 -0.69\n",
              "10   11  165  393  14   5  0.30\n",
              "11   12  201  442  25   5 -0.46\n",
              "12   13  157  317  52   5 -0.03\n",
              "13   14  131  311  16   6  0.50\n",
              "14   15  166  400  34   6  0.73\n",
              "15   16  160  337  31   5 -0.52\n",
              "16   17  186  423  42   9  0.90\n",
              "17   18  125  334  26   8  0.40\n",
              "18   19  218  533  16   6 -0.78\n",
              "19   20  146  344  22   5 -0.56"
            ]
          },
          "metadata": {},
          "execution_count": 36
        }
      ]
    },
    {
      "cell_type": "code",
      "metadata": {
        "id": "cJlehihvxt3S"
      },
      "source": [
        "Y1 = lin_data.y[5:]\n",
        "A1 = np.transpose(np.vstack((np.ones(len(lin_data.x)-5), lin_data.x[5:])))\n",
        "C1 = np.diag(lin_data.σy[5:]**2)"
      ],
      "execution_count": null,
      "outputs": []
    },
    {
      "cell_type": "code",
      "metadata": {
        "id": "342k_7U94AqH"
      },
      "source": [
        "X1 = np.linalg.inv(np.transpose(A1) @ np.linalg.inv(C1) @ A1) @ np.transpose(A1) @ np.linalg.inv(C1) @ Y1"
      ],
      "execution_count": null,
      "outputs": []
    },
    {
      "cell_type": "code",
      "metadata": {
        "id": "8_K8rSeh75V3"
      },
      "source": [
        "minx = min(lin_data.x[5:])\n",
        "maxx = max(lin_data.x[5:])\n",
        "x = np.linspace(minx,maxx)\n",
        "y = X1[1] * x + X1[0]"
      ],
      "execution_count": null,
      "outputs": []
    },
    {
      "cell_type": "code",
      "metadata": {
        "id": "FhKrWjdcAJ4T"
      },
      "source": [
        "Chi_sqr = np.transpose(Y1-A1@X1)@(np.linalg.inv(C1))@(Y1-A1@X1)"
      ],
      "execution_count": null,
      "outputs": []
    },
    {
      "cell_type": "code",
      "metadata": {
        "colab": {
          "base_uri": "https://localhost:8080/",
          "height": 312
        },
        "id": "Ka3thFb84UaK",
        "outputId": "3f9152ac-1db7-4626-e1a1-3855e1307663"
      },
      "source": [
        "plt.errorbar(lin_data.x[5:],lin_data.y[5:],yerr=lin_data.σy[5:],fmt='.')\n",
        "plt.plot(x,y)\n",
        "plt.ylabel('Y')\n",
        "plt.xlabel('X')\n",
        "plt.title('Standard Linear Fit')\n",
        "print('y = {:.2f}x + {:.2f} has a χ^2 of {:.2f}'.format(X1[1],X1[0],Chi_sqr))"
      ],
      "execution_count": null,
      "outputs": [
        {
          "output_type": "stream",
          "name": "stdout",
          "text": [
            "y = 2.23x + 34.85 has a χ^2 0f 18.58\n"
          ]
        },
        {
          "output_type": "display_data",
          "data": {
            "image/png": "[encoded data removed]",
            "text/plain": [
              "<Figure size 432x288 with 1 Axes>"
            ]
          },
          "metadata": {
            "needs_background": "light"
          }
        }
      ]
    },
    {
      "cell_type": "code",
      "metadata": {
        "id": "FXqcGr13-xCf"
      },
      "source": [
        "Y2 = lin_data.y[:]\n",
        "A2 = np.transpose(np.vstack((np.ones(len(lin_data.x)), lin_data.x[:])))\n",
        "C2 = np.diag(lin_data.σy[:]**2)"
      ],
      "execution_count": null,
      "outputs": []
    },
    {
      "cell_type": "code",
      "metadata": {
        "id": "ct19V-nz-6Rd"
      },
      "source": [
        "X2 = np.linalg.inv(np.transpose(A2) @ np.linalg.inv(C2) @ A2) @ np.transpose(A2) @ np.linalg.inv(C2) @ Y2"
      ],
      "execution_count": null,
      "outputs": []
    },
    {
      "cell_type": "code",
      "metadata": {
        "id": "avGge1Ca58IE"
      },
      "source": [
        "min2x = min(lin_data.x[:])\n",
        "max2x = max(lin_data.x[:])\n",
        "x2 = np.linspace(min2x,max2x)\n",
        "y2 = X2[1] * x2 + X2[0]"
      ],
      "execution_count": null,
      "outputs": []
    },
    {
      "cell_type": "code",
      "metadata": {
        "id": "2a7RAQyKCGFO"
      },
      "source": [
        "Chi_sqr2 = np.transpose(Y2-A2@X2)@(np.linalg.inv(C2))@(Y2-A2@X2)"
      ],
      "execution_count": null,
      "outputs": []
    },
    {
      "cell_type": "code",
      "metadata": {
        "colab": {
          "base_uri": "https://localhost:8080/",
          "height": 312
        },
        "id": "z1WZz6k0-N6h",
        "outputId": "43c50ca2-236a-4f5e-9392-16794127b004"
      },
      "source": [
        "plt.errorbar(lin_data.x[:],lin_data.y[:],yerr=lin_data.σy[:],fmt='.')\n",
        "plt.plot(x2,y2)\n",
        "plt.ylabel('Y')\n",
        "plt.xlabel('X')\n",
        "plt.title('Standard Linear Fit All data')\n",
        "print('y = {:.2f}x + {:.2f} has a χ^2 of {:.2f}'.format(X2[1],X2[0], Chi_sqr2))"
      ],
      "execution_count": null,
      "outputs": [
        {
          "output_type": "stream",
          "name": "stdout",
          "text": [
            "y = 1.08x + 213.27 has a χ^2 0f 289.96\n"
          ]
        },
        {
          "output_type": "display_data",
          "data": {
            "image/png": "[encoded data removed]",
            "text/plain": [
              "<Figure size 432x288 with 1 Axes>"
            ]
          },
          "metadata": {
            "needs_background": "light"
          }
        }
      ]
    },
    {
      "cell_type": "markdown",
      "metadata": {
        "id": "UF-P1SX-CfBy"
      },
      "source": [
        "In this data set including the first 5 data points, there exists greater outliers in the data set, forcing our line fit to be much less representative of the data and causing our Chi squared "
      ]
    },
    {
      "cell_type": "code",
      "metadata": {
        "id": "cWAxI4qX-oE6"
      },
      "source": [
        "Y3 = lin_data.y[:]\n",
        "A3 = np.transpose(np.vstack((np.ones(len(lin_data.x)), lin_data.x[:], lin_data.x[:]**2)))\n",
        "C3 = np.diag(lin_data.σy[:]**2)"
      ],
      "execution_count": null,
      "outputs": []
    },
    {
      "cell_type": "code",
      "metadata": {
        "id": "hh6LCduNC_V6"
      },
      "source": [
        "X3 = np.linalg.inv(np.transpose(A3) @ np.linalg.inv(C3) @ A3) @ np.transpose(A3) @ np.linalg.inv(C3) @ Y3"
      ],
      "execution_count": null,
      "outputs": []
    },
    {
      "cell_type": "code",
      "metadata": {
        "id": "F9U2U_BjDQdv"
      },
      "source": [
        "min3x = min(lin_data.x[:])\n",
        "max3x = max(lin_data.x[:])\n",
        "x3 = np.linspace(min3x,max3x)\n",
        "y3 = X3[2] * x3**2 + X3[1] * x3 + X3[0]"
      ],
      "execution_count": null,
      "outputs": []
    },
    {
      "cell_type": "code",
      "metadata": {
        "id": "xncsWnhFD_Wr"
      },
      "source": [
        "Chi_sqr3 = np.transpose(Y3-A3@X3)@(np.linalg.inv(C3))@(Y3-A3@X3)"
      ],
      "execution_count": null,
      "outputs": []
    },
    {
      "cell_type": "code",
      "metadata": {
        "id": "C_X_10S5En4E",
        "colab": {
          "base_uri": "https://localhost:8080/",
          "height": 312
        },
        "outputId": "89276cb7-c219-4039-9048-59e531a75f20"
      },
      "source": [
        "plt.errorbar(lin_data.x[:],lin_data.y[:],yerr=lin_data.σy[:],fmt='.')\n",
        "plt.plot(x3,y3)\n",
        "plt.ylabel('Y')\n",
        "plt.xlabel('X')\n",
        "plt.title('Standard Quadratic Fit All data')\n",
        "print('y = {:.2f}x^2 + {:.2f}x + {:.2f} has a χ^2 of {:.2f}'.format(X3[2],X3[1],X3[0], Chi_sqr3))"
      ],
      "execution_count": null,
      "outputs": [
        {
          "output_type": "stream",
          "name": "stdout",
          "text": [
            "y = -0.01x^2 + 3.72x + 18.85 has a χ^2 0f 218.49\n"
          ]
        },
        {
          "output_type": "display_data",
          "data": {
            "image/png": "[encoded data removed]",
            "text/plain": [
              "<Figure size 432x288 with 1 Axes>"
            ]
          },
          "metadata": {
            "needs_background": "light"
          }
        }
      ]
    },
    {
      "cell_type": "markdown",
      "metadata": {
        "id": "X0zXH4lCFYzV"
      },
      "source": [
        "Here, making our fit line a quadratic has reduced our chi square value by a substantial amount, from 298.96 to now 218.49."
      ]
    },
    {
      "cell_type": "code",
      "metadata": {
        "id": "o4SOzajWFC4I"
      },
      "source": [
        ""
      ],
      "execution_count": null,
      "outputs": []
    }
  ]
}