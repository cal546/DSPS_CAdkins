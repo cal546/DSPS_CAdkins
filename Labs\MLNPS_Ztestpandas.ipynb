{
  "nbformat": 4,
  "nbformat_minor": 0,
  "metadata": {
    "colab": {
      "name": "Copy of MLNPS_Ztestpandas.ipynb",
      "provenance": [],
      "collapsed_sections": [],
      "include_colab_link": true
    },
    "kernelspec": {
      "name": "python3",
      "display_name": "Python 3"
    },
    "language_info": {
      "name": "python"
    }
  },
  "cells": [
    {
      "cell_type": "markdown",
      "metadata": {
        "id": "view-in-github",
        "colab_type": "text"
      },
      "source": [
        "<a href=\"https://colab.research.google.com/github/cal546/DSPS_CAdkins/blob/main/Labs%5CMLNPS_Ztestpandas.ipynb\" target=\"_parent\"><img src=\"https://colab.research.google.com/assets/colab-badge.svg\" alt=\"Open In Colab\"/></a>"
      ]
    },
    {
      "cell_type": "code",
      "metadata": {
        "colab": {
          "base_uri": "https://localhost:8080/"
        },
        "id": "zYeYaORLJz2M",
        "outputId": "70078329-88a7-4a35-97fc-1d85296ad2f0"
      },
      "source": [
        "import pandas as pd\n",
        "%pylab inline"
      ],
      "execution_count": 1,
      "outputs": [
        {
          "output_type": "stream",
          "name": "stdout",
          "text": [
            "Populating the interactive namespace from numpy and matplotlib\n"
          ]
        }
      ]
    },
    {
      "cell_type": "markdown",
      "metadata": {
        "id": "SQd2HLsUJ5N-"
      },
      "source": [
        "I extracted precipitations records for Willmington from 2000/01/01 through today. \n",
        "The goal is to extract from these data the daily precipitation starting on 2018/01/01 and assess if these data are different from a population with mean $\\mu = 0.14$ standard deviation $\\sigma= 0.38$. \n",
        "\n",
        "Set a p-value at $2\\sigma$:  $p=0.05$"
      ]
    },
    {
      "cell_type": "code",
      "metadata": {
        "id": "Q0hV8dDFJ6BW"
      },
      "source": [
        "rain = pd.read_csv(\"https://raw.githubusercontent.com/fedhere/DSPS/master/labs/1865331.csv\")"
      ],
      "execution_count": 26,
      "outputs": []
    },
    {
      "cell_type": "markdown",
      "metadata": {
        "id": "wLnSJ7lZJ7oB"
      },
      "source": [
        "\n",
        "The $Z$ statistics is : $Z = \\frac{\\bar{X} - \\mu }{s}$ and $s = \\sigma / \\sqrt(N)$ (you should know what all those symbols mean)\n",
        "\n",
        "1. Extract from the dataframe above the columns \"DATE\" and \"PRCP\" (precipitation)\n",
        "\n",
        "2. Convert the dataframe DATE from ```string``` to ```datetime``` type\n",
        " using pd.datetime() \n",
        "    \n",
        "3. Select the data rows with date later than 2018/01/01. \n",
        "    If your data type conversion worked well you should be able to set the condition as ```rain[<newcolumnname>]> pd.to_datetime(\"2018/01/01\")```\n",
        "    use the technique called \"broadcasting\" to select the rows: \n",
        "    \n",
        "    ```rain[ rain[<newcolumnname>]> pd.to_datetime(\"2018/01/01\")]``` which you can save as a new dataframe\n",
        "    \n",
        "4. Calculate the mean of the sample you created $\\bar{X}$ and plug it in  the numerator of the $Z$ statistics: $\\bar{X}- \\mu$\n",
        "\n",
        "5. Calculate the size of the sample and plug it in the formula. Now you have $Z$\n",
        "\n",
        "6. Knowing the distribution of $Z\\sim N(\\mu=0, \\sigma=1)$ and with a confidence $p=0.05$, did you find that the time period 2018/01/01---today has a statistically significant different amount of rain?  \n",
        "    "
      ]
    },
    {
      "cell_type": "code",
      "metadata": {
        "id": "l1lRuA72J90k",
        "colab": {
          "base_uri": "https://localhost:8080/"
        },
        "outputId": "cabc047f-142b-414c-d0ea-7f45269d80c9"
      },
      "source": [
        "rain.columns"
      ],
      "execution_count": 27,
      "outputs": [
        {
          "output_type": "execute_result",
          "data": {
            "text/plain": [
              "Index(['STATION', 'NAME', 'DATE', 'PRCP', 'SNOW', 'SNWD', 'WESD', 'WESF'], dtype='object')"
            ]
          },
          "metadata": {},
          "execution_count": 27
        }
      ]
    },
    {
      "cell_type": "code",
      "metadata": {
        "colab": {
          "base_uri": "https://localhost:8080/",
          "height": 203
        },
        "id": "O9h8zXGfqwB6",
        "outputId": "51f8c0be-2f70-4820-f940-a4a92b104264"
      },
      "source": [
        "rain = rain[[\"DATE\",\"PRCP\"]]\n",
        "rain.head()"
      ],
      "execution_count": 28,
      "outputs": [
        {
          "output_type": "execute_result",
          "data": {
            "text/html": [
              "<div>\n",
              "<style scoped>\n",
              "    .dataframe tbody tr th:only-of-type {\n",
              "        vertical-align: middle;\n",
              "    }\n",
              "\n",
              "    .dataframe tbody tr th {\n",
              "        vertical-align: top;\n",
              "    }\n",
              "\n",
              "    .dataframe thead th {\n",
              "        text-align: right;\n",
              "    }\n",
              "</style>\n",
              "<table border=\"1\" class=\"dataframe\">\n",
              "  <thead>\n",
              "    <tr style=\"text-align: right;\">\n",
              "      <th></th>\n",
              "      <th>DATE</th>\n",
              "      <th>PRCP</th>\n",
              "    </tr>\n",
              "  </thead>\n",
              "  <tbody>\n",
              "    <tr>\n",
              "      <th>0</th>\n",
              "      <td>2010-01-01</td>\n",
              "      <td>0.28</td>\n",
              "    </tr>\n",
              "    <tr>\n",
              "      <th>1</th>\n",
              "      <td>2010-01-02</td>\n",
              "      <td>0.00</td>\n",
              "    </tr>\n",
              "    <tr>\n",
              "      <th>2</th>\n",
              "      <td>2010-01-03</td>\n",
              "      <td>0.00</td>\n",
              "    </tr>\n",
              "    <tr>\n",
              "      <th>3</th>\n",
              "      <td>2010-01-04</td>\n",
              "      <td>0.00</td>\n",
              "    </tr>\n",
              "    <tr>\n",
              "      <th>4</th>\n",
              "      <td>2010-01-05</td>\n",
              "      <td>0.00</td>\n",
              "    </tr>\n",
              "  </tbody>\n",
              "</table>\n",
              "</div>"
            ],
            "text/plain": [
              "         DATE  PRCP\n",
              "0  2010-01-01  0.28\n",
              "1  2010-01-02  0.00\n",
              "2  2010-01-03  0.00\n",
              "3  2010-01-04  0.00\n",
              "4  2010-01-05  0.00"
            ]
          },
          "metadata": {},
          "execution_count": 28
        }
      ]
    },
    {
      "cell_type": "code",
      "metadata": {
        "id": "RA4BddX5qpu0"
      },
      "source": [
        "rain['DATE'] = pd.to_datetime(rain['DATE'])\n"
      ],
      "execution_count": 29,
      "outputs": []
    },
    {
      "cell_type": "code",
      "metadata": {
        "id": "1EiHA3BerUH9"
      },
      "source": [
        "rain2018 =rain[ rain['DATE']> pd.to_datetime(\"2018/01/01\")]"
      ],
      "execution_count": 48,
      "outputs": []
    },
    {
      "cell_type": "code",
      "metadata": {
        "id": "xnFTTyvatLvD"
      },
      "source": [
        "mu = 0.18\n",
        "sigma = 0.38"
      ],
      "execution_count": 49,
      "outputs": []
    },
    {
      "cell_type": "code",
      "metadata": {
        "id": "RxIkwlIss3f9"
      },
      "source": [
        "x_hat = rain2018.PRCP.mean()"
      ],
      "execution_count": 50,
      "outputs": []
    },
    {
      "cell_type": "code",
      "metadata": {
        "colab": {
          "base_uri": "https://localhost:8080/"
        },
        "id": "yIyr0RU_tVOT",
        "outputId": "9d16b172-e2d4-49ae-8bcc-d59acb2c3bf0"
      },
      "source": [
        "x_hat"
      ],
      "execution_count": 52,
      "outputs": [
        {
          "output_type": "execute_result",
          "data": {
            "text/plain": [
              "0.16250406504065049"
            ]
          },
          "metadata": {},
          "execution_count": 52
        }
      ]
    },
    {
      "cell_type": "code",
      "metadata": {
        "id": "A4cZ7YImtaMH"
      },
      "source": [
        "N = rain2018.shape[0]"
      ],
      "execution_count": 53,
      "outputs": []
    },
    {
      "cell_type": "code",
      "metadata": {
        "id": "5P9Pbpg2uXgM"
      },
      "source": [
        "z = (x_hat - mu) / (sigma / np.sqrt(N))"
      ],
      "execution_count": 54,
      "outputs": []
    },
    {
      "cell_type": "code",
      "metadata": {
        "colab": {
          "base_uri": "https://localhost:8080/"
        },
        "id": "64t2ZFO_ugfU",
        "outputId": "4553b2c0-34c6-40ad-f66d-8c9906f97021"
      },
      "source": [
        "z"
      ],
      "execution_count": 55,
      "outputs": [
        {
          "output_type": "execute_result",
          "data": {
            "text/plain": [
              "-1.1418028345723243"
            ]
          },
          "metadata": {},
          "execution_count": 55
        }
      ]
    },
    {
      "cell_type": "code",
      "metadata": {
        "id": "Plg_72LTuoK9"
      },
      "source": [
        ""
      ],
      "execution_count": null,
      "outputs": []
    }
  ]
}